{
  "nbformat": 4,
  "nbformat_minor": 0,
  "metadata": {
    "colab": {
      "name": "Untitled1.ipynb",
      "provenance": [],
      "authorship_tag": "ABX9TyOO9PLtfJsnaQvHL48LjsRN",
      "include_colab_link": true
    },
    "kernelspec": {
      "name": "python3",
      "display_name": "Python 3"
    },
    "language_info": {
      "name": "python"
    },
    "accelerator": "GPU"
  },
  "cells": [
    {
      "cell_type": "markdown",
      "metadata": {
        "id": "view-in-github",
        "colab_type": "text"
      },
      "source": [
        "<a href=\"https://colab.research.google.com/github/fsenchyna/CSC869_Term_Project/blob/fiona/beeimage-classifier.ipynb\" target=\"_parent\"><img src=\"https://colab.research.google.com/assets/colab-badge.svg\" alt=\"Open In Colab\"/></a>"
      ]
    },
    {
      "cell_type": "markdown",
      "metadata": {
        "id": "5oihVDUrEmxK"
      },
      "source": [
        "#Bee image classification with a convolutional neural network (CNN).\n",
        "\n",
        "- Make sure GPU is used (Edit -> notebook settings -> hardware accelerator = GPU)\n",
        "- Inspiration: https://www.youtube.com/watch?app=desktop&v=qFJeN9V1ZsI (Next step: 1:36:45 -> pretrained model)"
      ]
    },
    {
      "cell_type": "code",
      "metadata": {
        "id": "d6g1cON5FS5L"
      },
      "source": [
        "import numpy as np\n",
        "import tensorflow as tf\n",
        "from tensorflow import keras\n",
        "from tensorflow.keras.models import Sequential\n",
        "from tensorflow.keras.layers import Activation, Dense, Flatten, BatchNormalization, Conv2D, MaxPool2D\n",
        "from tensorflow.keras.optimizers import Adam\n",
        "from tensorflow.keras.metrics import categorical_crossentropy\n",
        "from tensorflow.keras.preprocessing.image import ImageDataGenerator\n",
        "from sklearn.metrics import confusion_matrix\n",
        "import itertools\n",
        "import os\n",
        "import shutil\n",
        "import random\n",
        "import glob\n",
        "import matplotlib.pyplot as plt\n",
        "import warnings\n",
        "warnings.simplefilter(action='ignore', category=FutureWarning)\n",
        "%matplotlib inline"
      ],
      "execution_count": 1,
      "outputs": []
    },
    {
      "cell_type": "markdown",
      "metadata": {
        "id": "b7d7dA93EzHe"
      },
      "source": [
        "Import image data into colab environment as accessing images is very slow from drive. Must first put the train,validate,test folders into a folder called 'beehives' and zip. Then add this to your google drive"
      ]
    },
    {
      "cell_type": "code",
      "metadata": {
        "id": "2LLPK-QcHozM",
        "colab": {
          "base_uri": "https://localhost:8080/"
        },
        "outputId": "3fb77fe0-6401-4ca6-8dc6-77855c7d0c4b"
      },
      "source": [
        "from google.colab import drive\n",
        "drive.mount('/content/drive')"
      ],
      "execution_count": 2,
      "outputs": [
        {
          "output_type": "stream",
          "text": [
            "Mounted at /content/drive\n"
          ],
          "name": "stdout"
        }
      ]
    },
    {
      "cell_type": "code",
      "metadata": {
        "id": "EnSXvh8WE48u"
      },
      "source": [
        "zip_path = '/content/drive/MyDrive/image_processing/beehives.zip'"
      ],
      "execution_count": 3,
      "outputs": []
    },
    {
      "cell_type": "code",
      "metadata": {
        "id": "f9qCRab8FMWp"
      },
      "source": [
        "!cp \"{zip_path}\" .\n",
        "!unzip -q beehives.zip\n",
        "!rm beehives.zip"
      ],
      "execution_count": 4,
      "outputs": []
    },
    {
      "cell_type": "markdown",
      "metadata": {
        "id": "igN1qSw9FW55"
      },
      "source": [
        "Process images so that they can be used by the CNN"
      ]
    },
    {
      "cell_type": "code",
      "metadata": {
        "id": "7wcsnUMJFMxU"
      },
      "source": [
        "train_path = 'beehives/Train'\n",
        "valid_path = 'beehives/Validate'\n",
        "test_path = 'beehives/Test'"
      ],
      "execution_count": 5,
      "outputs": []
    },
    {
      "cell_type": "code",
      "metadata": {
        "colab": {
          "base_uri": "https://localhost:8080/"
        },
        "id": "wmPdTXksFZj4",
        "outputId": "5f4734f1-6e4d-42fa-a627-4c40eec2b5ce"
      },
      "source": [
        "train_batches = ImageDataGenerator(preprocessing_function=tf.keras.applications.vgg16.preprocess_input) \\\n",
        ".flow_from_directory(directory=train_path, target_size=(224, 224), \\\n",
        "classes=['AntProblem', 'FewVarraoHiveBeetles', 'Healthy', 'HiveBeingRobbed', \\\n",
        "'MissingQueen', 'VarroaSmallHiveBeetles'], batch_size=10)\n",
        "valid_batches = ImageDataGenerator(preprocessing_function=tf.keras.applications.vgg16.preprocess_input) \\\n",
        ".flow_from_directory(directory=valid_path, target_size=(224, 224), \\\n",
        "classes=['AntProblem', 'FewVarraoHiveBeetles', 'Healthy', 'HiveBeingRobbed', \\\n",
        "'MissingQueen', 'VarroaSmallHiveBeetles'], batch_size=10)\n",
        "test_batches = ImageDataGenerator(preprocessing_function=tf.keras.applications.vgg16.preprocess_input) \\\n",
        ".flow_from_directory(directory=test_path, target_size=(224, 224), \\\n",
        "classes=['AntProblem', 'FewVarraoHiveBeetles', 'Healthy', 'HiveBeingRobbed', \\\n",
        "'MissingQueen', 'VarroaSmallHiveBeetles'], batch_size=10, shuffle=False)"
      ],
      "execution_count": 6,
      "outputs": [
        {
          "output_type": "stream",
          "text": [
            "Found 3566 images belonging to 6 classes.\n",
            "Found 1027 images belonging to 6 classes.\n",
            "Found 579 images belonging to 6 classes.\n"
          ],
          "name": "stdout"
        }
      ]
    },
    {
      "cell_type": "markdown",
      "metadata": {
        "id": "RkLc_95XFgBq"
      },
      "source": [
        "This function was taken directly from TensorFlows website, used to preview images in the generator"
      ]
    },
    {
      "cell_type": "code",
      "metadata": {
        "id": "ghHeEVvMFbqp"
      },
      "source": [
        "def plotImages(images_arr):\n",
        "  fig, axes = plt.subplots(1, 10, figsize=(20,20))\n",
        "  axes = axes.flatten()\n",
        "  for img, ax in zip(images_arr, axes):\n",
        "    ax.imshow(img)\n",
        "    ax.axis('off')\n",
        "  plt.tight_layout()\n",
        "  plt.show()"
      ],
      "execution_count": 7,
      "outputs": []
    },
    {
      "cell_type": "code",
      "metadata": {
        "colab": {
          "base_uri": "https://localhost:8080/",
          "height": 486
        },
        "id": "jwkFGADdFktT",
        "outputId": "8d36c0b8-6bd5-4ece-b401-766f0f69f5cc"
      },
      "source": [
        "imgs, labels = next(train_batches)\n",
        "plotImages(imgs)\n",
        "print(labels)"
      ],
      "execution_count": 8,
      "outputs": [
        {
          "output_type": "stream",
          "text": [
            "Clipping input data to the valid range for imshow with RGB data ([0..1] for floats or [0..255] for integers).\n",
            "Clipping input data to the valid range for imshow with RGB data ([0..1] for floats or [0..255] for integers).\n",
            "Clipping input data to the valid range for imshow with RGB data ([0..1] for floats or [0..255] for integers).\n",
            "Clipping input data to the valid range for imshow with RGB data ([0..1] for floats or [0..255] for integers).\n",
            "Clipping input data to the valid range for imshow with RGB data ([0..1] for floats or [0..255] for integers).\n",
            "Clipping input data to the valid range for imshow with RGB data ([0..1] for floats or [0..255] for integers).\n",
            "Clipping input data to the valid range for imshow with RGB data ([0..1] for floats or [0..255] for integers).\n",
            "Clipping input data to the valid range for imshow with RGB data ([0..1] for floats or [0..255] for integers).\n",
            "Clipping input data to the valid range for imshow with RGB data ([0..1] for floats or [0..255] for integers).\n",
            "Clipping input data to the valid range for imshow with RGB data ([0..1] for floats or [0..255] for integers).\n"
          ],
          "name": "stderr"
        },
        {
          "output_type": "display_data",
          "data": {
            "image/png": "[encoded data removed]",
            "text/plain": [
              "<Figure size 1440x1440 with 10 Axes>"
            ]
          },
          "metadata": {
            "tags": [],
            "needs_background": "light"
          }
        },
        {
          "output_type": "stream",
          "text": [
            "[[0. 0. 1. 0. 0. 0.]\n",
            " [0. 0. 1. 0. 0. 0.]\n",
            " [0. 0. 0. 0. 0. 1.]\n",
            " [0. 0. 1. 0. 0. 0.]\n",
            " [0. 0. 0. 1. 0. 0.]\n",
            " [0. 0. 1. 0. 0. 0.]\n",
            " [0. 0. 1. 0. 0. 0.]\n",
            " [0. 0. 1. 0. 0. 0.]\n",
            " [0. 0. 1. 0. 0. 0.]\n",
            " [0. 0. 1. 0. 0. 0.]]\n"
          ],
          "name": "stdout"
        }
      ]
    },
    {
      "cell_type": "markdown",
      "metadata": {
        "id": "y9bZJcFdFprg"
      },
      "source": [
        "Build simple CNN model"
      ]
    },
    {
      "cell_type": "code",
      "metadata": {
        "id": "_nDYTrvkFmdP"
      },
      "source": [
        "model = Sequential([\n",
        "                    Conv2D(filters=32, kernel_size=(3, 3), activation='relu', padding='same', input_shape=(224, 224, 3)),\n",
        "                    MaxPool2D(pool_size=(2, 2), strides=2),\n",
        "                    Conv2D(filters=64, kernel_size=(3, 3), activation='relu', padding='same'), \n",
        "                    MaxPool2D(pool_size=(2, 2), strides=2),\n",
        "                    Flatten(),\n",
        "                    Dense(units=6, activation='softmax'),\n",
        "])"
      ],
      "execution_count": 9,
      "outputs": []
    },
    {
      "cell_type": "code",
      "metadata": {
        "id": "tma5F1PmFspX"
      },
      "source": [
        "model.compile(optimizer=Adam(learning_rate=0.0001), loss='categorical_crossentropy', metrics=['accuracy'])"
      ],
      "execution_count": 10,
      "outputs": []
    },
    {
      "cell_type": "markdown",
      "metadata": {
        "id": "WVGmvhEwFxJV"
      },
      "source": [
        "train model with images in the train and validate folders. Run the images throught the model ten times (epochs=10)"
      ]
    },
    {
      "cell_type": "code",
      "metadata": {
        "colab": {
          "base_uri": "https://localhost:8080/"
        },
        "id": "17bOEOanFuxx",
        "outputId": "97def056-3abf-4dc1-84eb-1729cfc6679e"
      },
      "source": [
        "model.fit(x=train_batches, validation_data=valid_batches, epochs=10, verbose=2)"
      ],
      "execution_count": 11,
      "outputs": [
        {
          "output_type": "stream",
          "text": [
            "Epoch 1/10\n",
            "357/357 - 41s - loss: 7.0298 - accuracy: 0.8155 - val_loss: 4.3348 - val_accuracy: 0.7556\n",
            "Epoch 2/10\n",
            "357/357 - 7s - loss: 0.3463 - accuracy: 0.9459 - val_loss: 1.9382 - val_accuracy: 0.8345\n",
            "Epoch 3/10\n",
            "357/357 - 7s - loss: 0.1068 - accuracy: 0.9725 - val_loss: 2.1571 - val_accuracy: 0.8481\n",
            "Epoch 4/10\n",
            "357/357 - 7s - loss: 0.1102 - accuracy: 0.9776 - val_loss: 1.7576 - val_accuracy: 0.8277\n",
            "Epoch 5/10\n",
            "357/357 - 7s - loss: 0.0276 - accuracy: 0.9924 - val_loss: 2.2800 - val_accuracy: 0.8092\n",
            "Epoch 6/10\n",
            "357/357 - 7s - loss: 0.0085 - accuracy: 0.9975 - val_loss: 1.8417 - val_accuracy: 0.8228\n",
            "Epoch 7/10\n",
            "357/357 - 7s - loss: 0.0020 - accuracy: 0.9994 - val_loss: 1.7473 - val_accuracy: 0.8364\n",
            "Epoch 8/10\n",
            "357/357 - 7s - loss: 2.4484e-04 - accuracy: 1.0000 - val_loss: 1.7867 - val_accuracy: 0.8335\n",
            "Epoch 9/10\n",
            "357/357 - 7s - loss: 1.4176e-04 - accuracy: 1.0000 - val_loss: 1.7588 - val_accuracy: 0.8423\n",
            "Epoch 10/10\n",
            "357/357 - 7s - loss: 1.0738e-04 - accuracy: 1.0000 - val_loss: 1.7429 - val_accuracy: 0.8423\n"
          ],
          "name": "stdout"
        },
        {
          "output_type": "execute_result",
          "data": {
            "text/plain": [
              "<tensorflow.python.keras.callbacks.History at 0x7f80d21e9c50>"
            ]
          },
          "metadata": {
            "tags": []
          },
          "execution_count": 11
        }
      ]
    },
    {
      "cell_type": "markdown",
      "metadata": {
        "id": "jODPefu4F7ph"
      },
      "source": [
        "Use the trained cnn model to predict the images in the test set"
      ]
    },
    {
      "cell_type": "code",
      "metadata": {
        "id": "Vv1fhq-dGDev"
      },
      "source": [
        "predictions = model.predict(x=test_batches, verbose=0)"
      ],
      "execution_count": 12,
      "outputs": []
    },
    {
      "cell_type": "markdown",
      "metadata": {
        "id": "Avw50bYYGMNr"
      },
      "source": [
        "Round up the predictions so that the highest predicted class is labeled 1 (true) and the other classes are labeled 0 (false), otherwise model will output a percentage confidence for each label for each image in the test set"
      ]
    },
    {
      "cell_type": "code",
      "metadata": {
        "colab": {
          "base_uri": "https://localhost:8080/"
        },
        "id": "3J4hmVDQGJzc",
        "outputId": "5c3ddf26-35be-45c4-9b7f-42c9d1bdad04"
      },
      "source": [
        "np.round(predictions)"
      ],
      "execution_count": 13,
      "outputs": [
        {
          "output_type": "execute_result",
          "data": {
            "text/plain": [
              "array([[1., 0., 0., 0., 0., 0.],\n",
              "       [1., 0., 0., 0., 0., 0.],\n",
              "       [1., 0., 0., 0., 0., 0.],\n",
              "       ...,\n",
              "       [0., 0., 0., 0., 0., 1.],\n",
              "       [0., 0., 0., 0., 0., 1.],\n",
              "       [0., 0., 0., 0., 0., 1.]], dtype=float32)"
            ]
          },
          "metadata": {
            "tags": []
          },
          "execution_count": 13
        }
      ]
    }
  ]
}